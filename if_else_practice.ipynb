{
  "cells": [
    {
      "cell_type": "markdown",
      "metadata": {
        "id": "view-in-github",
        "colab_type": "text"
      },
      "source": [
        "<a href=\"https://colab.research.google.com/github/myworldpayal/if-else/blob/main/if_else_practice.ipynb\" target=\"_parent\"><img src=\"https://colab.research.google.com/assets/colab-badge.svg\" alt=\"Open In Colab\"/></a>"
      ]
    },
    {
      "cell_type": "code",
      "execution_count": null,
      "metadata": {
        "id": "sfsrDwDHfwDV"
      },
      "outputs": [],
      "source": [
        "a=int(input(\"enter a number  = \"))\n",
        "b=int(input(\"enter a number = \"))\n",
        "c=int(input(\"enter a number = \"))\n",
        "\n",
        "print(a+b**c)"
      ]
    },
    {
      "cell_type": "code",
      "execution_count": null,
      "metadata": {
        "colab": {
          "base_uri": "https://localhost:8080/"
        },
        "id": "qArUyJohgDZ6",
        "outputId": "0fd21103-19bd-40c4-a6bd-48a0542987c4"
      },
      "outputs": [
        {
          "name": "stdout",
          "output_type": "stream",
          "text": [
            "enter a number7\n",
            "enter a number8\n",
            "enter a number9\n",
            "8 is maximum number\n"
          ]
        }
      ],
      "source": [
        "#Write a python program to find maximum between two numbers.\n",
        "\n",
        "a=int(input(\"enter a number\"))\n",
        "b=int(input(\"enter a number\"))\n",
        "c=int(input(\"enter a number\"))\n",
        "if a>b and c<a:\n",
        "  print(a,\"is maximum number\")\n",
        "elif b>a and a<b :\n",
        "  print(b,\"is maximum number\")\n",
        "elif a<c and b<c:\n",
        "  print(c,\"is maximum number\")\n"
      ]
    },
    {
      "cell_type": "code",
      "execution_count": null,
      "metadata": {
        "colab": {
          "base_uri": "https://localhost:8080/"
        },
        "id": "0S4diGTngDcF",
        "outputId": "e1f19c1a-fd24-4c75-d4d4-7cb1b97af347"
      },
      "outputs": [
        {
          "name": "stdout",
          "output_type": "stream",
          "text": [
            "enter a number 4\n",
            "this is positive number\n"
          ]
        }
      ],
      "source": [
        "#Write a python program to check whether a number is negative, positive or zero.\n",
        "\n",
        "a=int(input(\"enter a number \"))\n",
        "if  a<0:\n",
        "  print(\"this is nagative number\")\n",
        "elif  a>0:\n",
        "  print(\"this is positive number\")\n",
        "else :\n",
        "  print(\"this is zero\")"
      ]
    },
    {
      "cell_type": "code",
      "execution_count": null,
      "metadata": {
        "colab": {
          "base_uri": "https://localhost:8080/"
        },
        "id": "Ful2dMt-ULfk",
        "outputId": "07516589-abd5-40c8-93dd-97b5ad1cd1a6"
      },
      "outputs": [
        {
          "name": "stdout",
          "output_type": "stream",
          "text": [
            "enter a number6\n",
            "enter a number3\n",
            "the number is divisible by 5 and 11\n"
          ]
        }
      ],
      "source": [
        "#Write a python program to check whether a number is divisible by 5 and 11 or not.\n",
        "\n",
        "a=int(input(\"enter a number\"))\n",
        "b=int(input(\"enter a number\"))\n",
        "no1=55\n",
        "if (no1 % 5==0) and (no1 % 11==0):\n",
        "  print (\"the number is divisible by 5 and 11\")\n",
        "else:\n",
        "  print(\"the number is not divisible by 5 and 11\")"
      ]
    },
    {
      "cell_type": "code",
      "execution_count": null,
      "metadata": {
        "colab": {
          "base_uri": "https://localhost:8080/"
        },
        "id": "jLYULjVdgDd2",
        "outputId": "3916afe9-8298-4f3e-fb38-ff4c8b17a511"
      },
      "outputs": [
        {
          "name": "stdout",
          "output_type": "stream",
          "text": [
            "enter integer number = 665\n",
            "665 is a odd number\n"
          ]
        }
      ],
      "source": [
        "#Write a python program to check whether a number is even or odd.\n",
        "\n",
        "a=int(input(\"enter integer number = \"))\n",
        "remainder=a% 2\n",
        "if(remainder==0):\n",
        "  print(a,\"is a even number\")\n",
        "else:\n",
        "  print(a,\"is a odd number\")"
      ]
    },
    {
      "cell_type": "code",
      "execution_count": null,
      "metadata": {
        "colab": {
          "base_uri": "https://localhost:8080/"
        },
        "id": "4WMAwMbrgDgM",
        "outputId": "a2ceedf0-6bce-4880-d274-f4ebc2579762"
      },
      "outputs": [
        {
          "name": "stdout",
          "output_type": "stream",
          "text": [
            "enter a leap year = 2001\n",
            "thsi year a not leap\n"
          ]
        }
      ],
      "source": [
        "#Write a python program to check whether a year is leap year or not.\n",
        "\n",
        "year=int(input(\"enter a leap year = \"))\n",
        "if year%4==0:\n",
        "  print(\"this year is leap \")\n",
        "else:\n",
        "  print(\"thsi year a not leap\")"
      ]
    },
    {
      "cell_type": "code",
      "execution_count": null,
      "metadata": {
        "colab": {
          "base_uri": "https://localhost:8080/"
        },
        "id": "fvhS_M0CgDn-",
        "outputId": "36e042fe-97df-4dc9-b1d4-ec846fa27ab4"
      },
      "outputs": [
        {
          "name": "stdout",
          "output_type": "stream",
          "text": [
            "enter the alphabet = a\n",
            "a is a vowal\n"
          ]
        }
      ],
      "source": [
        "#Write a python program to input any alphabet and check whether it is vowel or consonant.\n",
        "\n",
        "a=input(\"enter the alphabet = \")\n",
        "if a in ('a','e','i','o','u,'):\n",
        "  print(a,\"is a vowel\")\n",
        "else:\n",
        "  print(a,\"is a consonant\")"
      ]
    },
    {
      "cell_type": "code",
      "execution_count": null,
      "metadata": {
        "colab": {
          "base_uri": "https://localhost:8080/"
        },
        "id": "9MC0cLD6gDqf",
        "outputId": "008dff26-1869-46c8-a307-c5b28f9ca9b4"
      },
      "outputs": [
        {
          "name": "stdout",
          "output_type": "stream",
          "text": [
            "enter a number = 4\n",
            "enter a number = 6\n",
            "b is a largest number\n"
          ]
        }
      ],
      "source": [
        "a=input(\"enter a number = \")\n",
        "b=input(\"enter a number = \")\n",
        "if a<b :\n",
        "  print(\"b is a largest number\")\n",
        "else :\n",
        "  print(\"a is a largest number\")"
      ]
    },
    {
      "cell_type": "code",
      "execution_count": null,
      "metadata": {
        "colab": {
          "base_uri": "https://localhost:8080/"
        },
        "id": "vXgHlcg1gDs_",
        "outputId": "2aea94d8-6543-46d5-d6c7-9fb9ec017ecd"
      },
      "outputs": [
        {
          "name": "stdout",
          "output_type": "stream",
          "text": [
            "enter a number = 6\n",
            "enter a number = 7\n",
            "enter a number = 8\n",
            " c largest number\n"
          ]
        }
      ],
      "source": [
        "a=input(\"enter a number = \")\n",
        "b=input(\"enter a number = \")\n",
        "c=input(\"enter a number = \")\n",
        "if a>b and a>c :\n",
        "  print(\"a largest nomber\")\n",
        "elif a<b and c<b :\n",
        "  print(\"b largest number\")\n",
        "else:\n",
        "  print(\" c largest number\")\n"
      ]
    },
    {
      "cell_type": "markdown",
      "metadata": {
        "id": "LouzTY7vYNOd"
      },
      "source": [
        ""
      ]
    },
    {
      "cell_type": "code",
      "execution_count": null,
      "metadata": {
        "colab": {
          "base_uri": "https://localhost:8080/"
        },
        "id": "L2dHGswpgDu1",
        "outputId": "062ebb52-7817-46e0-dcfc-5a758cddbc3f"
      },
      "outputs": [
        {
          "name": "stdout",
          "output_type": "stream",
          "text": [
            "enter a alphabet = F\n",
            "F this is alphabet\n"
          ]
        }
      ],
      "source": [
        "#Write a python program to input any character and check whether it is alphabet, digit or special character.\n",
        "\n",
        "ch=input(\"enter a alphabet = \")\n",
        "if (ch >=\"a\" and ch <=\"z\") or (ch>=\"A\" and ch<=\"Z\"):\n",
        "  print(ch,\"this is alphabet\")\n",
        "elif ch >=\"0\" and ch <=\"9\":\n",
        "  print(ch,\"this is number\")\n",
        "elif (ch=='&' or ch==\"@\"):\n",
        "  print(ch,\"this is special charater \")"
      ]
    },
    {
      "cell_type": "markdown",
      "metadata": {
        "id": "Adrw7asBYA0J"
      },
      "source": [
        ""
      ]
    },
    {
      "cell_type": "code",
      "execution_count": null,
      "metadata": {
        "colab": {
          "base_uri": "https://localhost:8080/"
        },
        "id": "fs4TI6R8gD0Z",
        "outputId": "a6e0a855-247d-4b98-b0ed-d145c9e9fb5d"
      },
      "outputs": [
        {
          "name": "stdout",
          "output_type": "stream",
          "text": [
            "enter a alphabetc\n",
            "c is lower\n"
          ]
        }
      ],
      "source": [
        "#Write a python program to check whether a character is uppercase or lowercase alphabet.\n",
        "\n",
        "a=input(\"enter a alphabet\")\n",
        "if a>=\"A\" and a<=\"Z\":\n",
        "  print(a,\"is upper\")\n",
        "elif a>=\"a\" and a<=\"z\":\n",
        "  print(a,\"is lower\")"
      ]
    },
    {
      "cell_type": "code",
      "execution_count": null,
      "metadata": {
        "colab": {
          "base_uri": "https://localhost:8080/"
        },
        "id": "7ruV9rRzgD6s",
        "outputId": "00650906-e9ee-40cf-d227-0502f5e9039e"
      },
      "outputs": [
        {
          "name": "stdout",
          "output_type": "stream",
          "text": [
            "enter a num weeek = 23\n",
            "is not valid\n"
          ]
        }
      ],
      "source": [
        "#Write a python program to input week number and print week day.\n",
        "\n",
        "week_num=int(input(\"enter a num weeek = \"))\n",
        "if week_num==1:\n",
        "  print(\"monday\")\n",
        "elif week_num==2:\n",
        "  print(\"tuesday\")\n",
        "elif week_num==3:\n",
        "  print(\"wednesday\")\n",
        "elif week_num==4:\n",
        "  print(\"thursday\")\n",
        "elif week_num==5:\n",
        "  print(\"friday\")\n",
        "elif week_num==6:\n",
        "  print(\"saturady\")\n",
        "elif week_num==7:\n",
        "  print(\"sunday\")\n",
        "else :\n",
        "  print(\"is not valid\")"
      ]
    },
    {
      "cell_type": "code",
      "execution_count": null,
      "metadata": {
        "colab": {
          "base_uri": "https://localhost:8080/"
        },
        "id": "8HkeisVYgD_2",
        "outputId": "16a6a415-3d66-4eb8-857c-7703b9e92a7c"
      },
      "outputs": [
        {
          "name": "stdout",
          "output_type": "stream",
          "text": [
            "enter month name = 60\n",
            "not exist\n"
          ]
        }
      ],
      "source": [
        "#Write a python program to input the month number and print the number of days in that month.\n",
        "\n",
        "month=int(input(\"enter month name = \"))\n",
        "    \n",
        "if month==1:\n",
        "    print(\"january has 31 days\");\n",
        "elif month==2:\n",
        "   print(\"February has 28\");\n",
        "elif(month==3) :\n",
        "   print(\"march has 31\");\n",
        "elif(month==4):\n",
        "   print(\"april has 30 \")\n",
        "elif(month==5):\n",
        "   print(\"may has 31\")\n",
        "elif(month==6):\n",
        "   print(\"Jun has 30\")\n",
        "elif(month==7):\n",
        "   print(\"July has 30\")\n",
        "elif(month==8):\n",
        "   print(\"August has 31\")\n",
        "elif(month==9):\n",
        "   print(\"september has 30\")\n",
        "elif(month==10):\n",
        "   print(\"october has 31\")\n",
        "elif(month==11):\n",
        "   print(\"november has 30\")\n",
        "elif(month==12):\n",
        "   print(\"December has 31\")\n",
        "else:\n",
        "   print(\"not exist\")"
      ]
    },
    {
      "cell_type": "code",
      "execution_count": null,
      "metadata": {
        "colab": {
          "base_uri": "https://localhost:8080/"
        },
        "id": "BMaNBLEDgEBS",
        "outputId": "55fed95c-76e6-4a7a-d27f-d89aac67262a"
      },
      "outputs": [
        {
          "name": "stdout",
          "output_type": "stream",
          "text": [
            "enter year3\n",
            "not leap year\n"
          ]
        }
      ],
      "source": [
        "#Write a python program to check whether a year is leap year or not.\n",
        "\n",
        "year=int(input(\"enter year\"))\n",
        "if year%4==0:\n",
        "  print(\"leap year\")\n",
        "else:\n",
        "  print(\"not leap year\")\n"
      ]
    },
    {
      "cell_type": "code",
      "execution_count": null,
      "metadata": {
        "colab": {
          "base_uri": "https://localhost:8080/"
        },
        "id": "FtVHHYMlF_Ie",
        "outputId": "b2a71d29-2f4e-4d03-8519-6c0db06acca1"
      },
      "outputs": [
        {
          "name": "stdout",
          "output_type": "stream",
          "text": [
            " basic salary of an employee 3\n",
            "3.0\n"
          ]
        }
      ],
      "source": [
        "#Write a python program to input basic salary of an employee and calculate its Gross salary according to following:\n",
        "#Basic Salary <= 10000 : HRA = 20%, DA = 80%\n",
        "#Basic Salary <= 20000 : HRA = 25%, DA = 90%\n",
        "#Basic Salary > 20000 : HRA = 30%, DA = 95%\n",
        "\n",
        "a=int(input(\" basic salary of an employee \"))\n",
        "if a<=10000:\n",
        "  print(20*a/100 + 80*a/100)\n",
        "elif a<=20000:\n",
        "  print(25*a/100 + 90*a/100)\n",
        "elif a>2000:\n",
        "  print(30*a/100 + 95*a/100)"
      ]
    },
    {
      "cell_type": "code",
      "execution_count": null,
      "metadata": {
        "id": "df3zLwpuXUbM"
      },
      "outputs": [],
      "source": [
        "#A shop will give a discount of 10% if the cost of the purchased quantity is more than 1000.\n",
        "# Ask the user for quantity, Suppose, one unit will cost 100. Judge and print total cost for user.\n",
        "\n",
        "q=int(input(\"enter the value of required\"))\n",
        "cost=100\n",
        "totalcost=q*cost\n",
        "if totalcost<=1000:\n",
        "  tc=totalcost*10/100\n",
        "  print(\"You got discount of\",tc,\"Rs and you have to pay\", totalcost-tc)\n",
        "else:\n",
        "  print(\"your total cost is\",totalcost,\"For discount you have to buy more things\")\n"
      ]
    },
    {
      "cell_type": "code",
      "execution_count": null,
      "metadata": {
        "colab": {
          "base_uri": "https://localhost:8080/"
        },
        "id": "dz4BKANVgEEL",
        "outputId": "f9f856c2-c280-422f-fab4-73b0e74ebf62"
      },
      "outputs": [
        {
          "name": "stdout",
          "output_type": "stream",
          "text": [
            "enter the unit consumed80\n",
            "enter the unit consumed50\n",
            "25.0\n"
          ]
        }
      ],
      "source": [
        "# Write a python program to input electricity unit charges and calculate total electricity bill according to the given condition:\n",
        "# For first 50 units Rs. 0.50/unit\n",
        "# For next 100 units Rs. 0.75/unit\n",
        "# For next 100 units Rs. 1.20/unit\n",
        "# For unit above 250 Rs. 1.50/unit\n",
        "# An additional surcharge of 20% is added to the bill\n",
        "\n",
        "\n",
        "a=float(input(\"enter the unit consumed\"))\n",
        "if a<=50:\n",
        "  print(a*0.50+20//100*a)\n",
        "elif a>=100:\n",
        "  print((a-50)*0.75+50*0.50+20//100*a)\n",
        "elif a>=200:\n",
        "  print((a-150)*1.20+50*0.50+100*0.75+20//100*a)\n",
        "elif a>200:\n",
        "  print((a-250)*1.50+50*0.50+100*0.75+100*1.20+20//100*a)\n",
        "\n"
      ]
    },
    {
      "cell_type": "code",
      "execution_count": null,
      "metadata": {
        "colab": {
          "base_uri": "https://localhost:8080/"
        },
        "id": "pTj3lDKDHV6P",
        "outputId": "34f35baa-d6fd-4537-aa88-d64a82b3f3ce"
      },
      "outputs": [
        {
          "name": "stdout",
          "output_type": "stream",
          "text": [
            "enter your salary6000\n",
            "how many years your servce in our company6\n",
            "your net bonous amount is  300.0\n"
          ]
        }
      ],
      "source": [
        "#A company decided to give a bonus of 5% to an employee if his/her year of service is more than 5 years.\n",
        " #Ask users for their salary and year of service and print the net bonus amount.\n",
        "\n",
        "s=int(input(\"enter your salary\"))\n",
        "service=int(input(\"how many years your servce in our company\"))\n",
        "if service> 5:\n",
        "  bonus=5/100*s\n",
        "  print(\"your net bonous amount is \",bonus)\n",
        "else:\n",
        "  print(\"your bonous connot be generated due to your servoce is not more than 5 year\")"
      ]
    },
    {
      "cell_type": "code",
      "execution_count": null,
      "metadata": {
        "id": "c5TLzNSSHWGu"
      },
      "outputs": [],
      "source": [
        "#from IPython.core.display import Markdown\n",
        "#A school has following rules for grading system:\n",
        "#a. Below 25 - F\n",
        "#b. 25 to 45 - E\n",
        "#c. 45 to 50 - D\n",
        "#d. 50 to 60 - C\n",
        "#e. 60 to 80 - B\n",
        "#f. Above 80 - A\n",
        "#Ask user to enter marks and print the corresponding grade.\n",
        "\n",
        "marks=int(input(\"enter your marks = \"))\n",
        "if marks<25:\n",
        "  print(\"your grade is 'F'\")\n",
        "elif marks>=25 and marks<=45:\n",
        "  print(\"your grade is 'E'\")\n",
        "elif marks>=45 and marks<=50:\n",
        "  print(\"your grade is 'D'\")\n",
        "elif marks>=50 and marks<=60:\n",
        "  print(\"your grade is 'c'\")\n",
        "elif marks>=60 and marks<=80:\n",
        "  print(\"your grade is 'B'\")\n",
        "elif marks>=80 and marks<=100:\n",
        "  print(\"your grade is 'A'\")\n",
        "else:\n",
        "  print(\"please check your marks\")\n"
      ]
    },
    {
      "cell_type": "code",
      "execution_count": null,
      "metadata": {
        "colab": {
          "base_uri": "https://localhost:8080/"
        },
        "id": "DQn37u6gHTrk",
        "outputId": "03df1be3-e929-42bf-e80f-3002ff0d5fad"
      },
      "outputs": [
        {
          "name": "stdout",
          "output_type": "stream",
          "text": [
            "enter your age = 70\n",
            "enter your age = 64\n",
            "enter your age = 30\n",
            "a has oldest age\n",
            "c has yongest age\n"
          ]
        }
      ],
      "source": [
        "#Take the age of 3 people by user and determine oldest and youngest among them.\n",
        "\n",
        "a=int(input(\"enter your age = \"))\n",
        "b=int(input(\"enter your age = \"))\n",
        "c=int(input(\"enter your age = \"))\n",
        "if a>b and a>c :\n",
        "  print(\"a has oldest age\")\n",
        "elif b>a and b>c :\n",
        "  print(\"b has oldest age\")\n",
        "else:\n",
        "  print(\"c has oldest age\") \n",
        "if a<b and a<c :\n",
        "  print(\"a has yongest age\")\n",
        "elif c<a and c<b:\n",
        "  print(\"c has yongest age\")\n",
        "else:\n",
        "  print(\"b has yongest age\")"
      ]
    },
    {
      "cell_type": "code",
      "execution_count": null,
      "metadata": {
        "colab": {
          "base_uri": "https://localhost:8080/"
        },
        "id": "4zT7_US8HWc7",
        "outputId": "f5ad7954-cea0-4338-a0d9-67e1a2387aef"
      },
      "outputs": [
        {
          "name": "stdout",
          "output_type": "stream",
          "text": [
            "enter age19\n",
            "eligible for voting\n"
          ]
        }
      ],
      "source": [
        "#Write a program to check whether a person is eligible for voting or not. (accept age from user)\n",
        "\n",
        "age=int(input(\"enter age\"))\n",
        "if age>=18:\n",
        "  print(\"eligible for voting\")\n",
        "else:\n",
        "  print(\"not eligible of voing\")"
      ]
    },
    {
      "cell_type": "code",
      "execution_count": null,
      "metadata": {
        "colab": {
          "base_uri": "https://localhost:8080/"
        },
        "id": "IHCvFmN_HmC3",
        "outputId": "c1983d7a-f71c-42b5-c2e9-b58ce8bc1131"
      },
      "outputs": [
        {
          "name": "stdout",
          "output_type": "stream",
          "text": [
            "enter a number3\n",
            "this is not divisible by 7\n"
          ]
        }
      ],
      "source": [
        "#Write a program to check whether a number is divisible by 7 or not.\n",
        "\n",
        "num=int (input(\"enter a number\"))\n",
        "if num%7==0:\n",
        "  print(\"this number is divisible by 7\")\n",
        "else:\n",
        "  print(\"this is not divisible by 7\")"
      ]
    },
    {
      "cell_type": "code",
      "execution_count": null,
      "metadata": {
        "id": "AMZ-JWdEInW1"
      },
      "outputs": [],
      "source": [
        "#Write a program to display \"Hello\" if a number entered by user is a multiple of five , otherwise print \"Bye\"\n",
        "\n",
        "a=int(input(\"enter a number\"))\n",
        "if a%5==0:\n",
        "  print(\"hello\")\n",
        "else:\n",
        "  print(\"bye\")"
      ]
    },
    {
      "cell_type": "code",
      "execution_count": null,
      "metadata": {
        "colab": {
          "base_uri": "https://localhost:8080/"
        },
        "id": "wYQIuCpV8Ixw",
        "outputId": "cf07d8b1-eeb5-4d99-cd56-fd7d15e14c22"
      },
      "outputs": [
        {
          "name": "stdout",
          "output_type": "stream",
          "text": [
            "enter any number :12\n",
            "2\n"
          ]
        }
      ],
      "source": [
        "# Write a program to display the last digit of a number.\n",
        "\n",
        "a=int(input(\"enter any number :\"))\n",
        "b=a%10\n",
        "print(b)"
      ]
    },
    {
      "cell_type": "code",
      "execution_count": null,
      "metadata": {
        "colab": {
          "base_uri": "https://localhost:8080/"
        },
        "id": "neQqryfW-iWE",
        "outputId": "879ac261-775b-4724-9ebb-9157786bf236"
      },
      "outputs": [
        {
          "name": "stdout",
          "output_type": "stream",
          "text": [
            "enter any number :8768665669\n",
            "it is divisible by 3\n"
          ]
        }
      ],
      "source": [
        " #Write a program to check whether the last digit of a number( entered by user ) is divisible by 3 or not.\n",
        "a=int(input('enter any number :'))\n",
        "b=a%10\n",
        "if b%3==0:\n",
        "  print(\"it is divisible by 3\")\n",
        "else:\n",
        "  print(\"it is not divisible by 3\")"
      ]
    },
    {
      "cell_type": "code",
      "execution_count": null,
      "metadata": {
        "colab": {
          "background_save": true,
          "base_uri": "https://localhost:8080/",
          "height": 130
        },
        "id": "B0oGZm3M-im6",
        "outputId": "9978b908-3204-475b-9791-bc50ccce6e80"
      },
      "outputs": [
        {
          "name": "stdout",
          "output_type": "stream",
          "text": [
            "The amount to be paid by you including taxes is- 1265000.0 Rupees\n"
          ]
        }
      ],
      "source": [
        "#Write a program to accept the cost price of a bike and display\n",
        " #the road tax to be paid according to the following criteria : \n",
        "  #      Cost price (in Rs)                                       Tax\n",
        "   #     > 100000                                                  15 %\n",
        "    #    > 50000 and <= 100000                          10%\n",
        "     #   <= 50000                                                  5%\n",
        "\n",
        "\n",
        "price=int(input(\"enter the price of bike : \"))\n",
        "cost=0\n",
        "if price>1000000:\n",
        "  cost=(15*price)/100\n",
        "elif 100000>=price<50000:\n",
        "  cost=(10*price)/100\n",
        "else:\n",
        "  cost=(5*price)/100\n",
        "\n",
        "print(\"The amount to be paid by you inc\")"
      ]
    },
    {
      "cell_type": "code",
      "execution_count": null,
      "metadata": {
        "colab": {
          "base_uri": "https://localhost:8080/"
        },
        "id": "aJ6UXMw35YgM",
        "outputId": "ca890dba-8218-46f0-e5d8-ae915b8337ef"
      },
      "outputs": [
        {
          "name": "stdout",
          "output_type": "stream",
          "text": [
            "a>b and c>d\n"
          ]
        }
      ],
      "source": [
        "#Write the logical expression for the following: A is greater than B and C is greater than D\n",
        "print(\"a>b and c>d\")"
      ]
    },
    {
      "cell_type": "code",
      "execution_count": null,
      "metadata": {
        "colab": {
          "base_uri": "https://localhost:8080/"
        },
        "id": "iHOsil505YuQ",
        "outputId": "b46f0041-2152-445f-adbe-70c4321e82a1"
      },
      "outputs": [
        {
          "name": "stdout",
          "output_type": "stream",
          "text": [
            "city Delhi\n",
            "Red Fort\n"
          ]
        }
      ],
      "source": [
        " #Accept any city from the user and display the monument of that city.\n",
        "  #                City                                 Monument\n",
        "   #               Delhi                               Red Fort\n",
        "    #              Agra                                Taj Mahal\n",
        "     #             Jaipur                              Jal Mahal\n",
        "\n",
        "c=input(\"city \")\n",
        "if c==\"Delhi\":\n",
        "  print(\"Red Fort\")\n",
        "elif c==\"Agra\":\n",
        "  print(\"Taj Mahal\")\n",
        "elif c==\"Jaipur\":\n",
        "  print(\"Jal Mahal\")\n",
        "else:\n",
        "  print(\"this monument\")"
      ]
    },
    {
      "cell_type": "code",
      "execution_count": null,
      "metadata": {
        "colab": {
          "base_uri": "https://localhost:8080/"
        },
        "id": "qPNpjPy75YwY",
        "outputId": "3820259d-e224-4588-c056-cefe23689226"
      },
      "outputs": [
        {
          "name": "stdout",
          "output_type": "stream",
          "text": [
            "age : 4\n",
            "not senior citizen\n"
          ]
        }
      ],
      "source": [
        "# Write a program to check whether a person is a senior citizen or not.\n",
        "\n",
        "a=int(input(\"age : \"))\n",
        "if a>=60 :\n",
        "  print(\"senior citizen\")\n",
        "else:\n",
        "  print(\"not senior citizen\")"
      ]
    },
    {
      "cell_type": "code",
      "execution_count": null,
      "metadata": {
        "colab": {
          "base_uri": "https://localhost:8080/"
        },
        "id": "SlUJ-sOE5Yy3",
        "outputId": "60230c1d-a459-4ddf-e130-2d47c2f14809"
      },
      "outputs": [
        {
          "name": "stdout",
          "output_type": "stream",
          "text": [
            "first no = 4\n",
            "second no = 6\n",
            "4 its lowest nimber\n"
          ]
        }
      ],
      "source": [
        "#Write a program to find the lowest number out of two numbers excepted from the user.\n",
        "\n",
        "a=int(input(\"first no = \"))\n",
        "b=int(input(\"second no = \"))\n",
        "if a>b:\n",
        "  print(b,\"its a lowest number\")\n",
        "elif a<b:\n",
        "  print(a, \"its lowest nimber\")\n",
        "else:\n",
        "  print(\"its not lowest number\")"
      ]
    },
    {
      "cell_type": "code",
      "execution_count": null,
      "metadata": {
        "colab": {
          "base_uri": "https://localhost:8080/"
        },
        "id": "ex0HlIm3mxp1",
        "outputId": "12a42861-3908-4c22-f3a3-39f52dfe1ffe"
      },
      "outputs": [
        {
          "name": "stdout",
          "output_type": "stream",
          "text": [
            "first no = 4\n",
            "second no = 7\n",
            "4 its lowest nimber\n"
          ]
        }
      ],
      "source": [
        "#nested if else\n",
        "\n",
        "a=int(input(\"first no = \"))\n",
        "b=int(input(\"second no = \"))\n",
        "if a>0:\n",
        "  if a>b:\n",
        "    print(b,\"its a lowest number\")\n",
        "  elif a<b:\n",
        "    print(a, \"its lowest nimber\")\n",
        "  else:\n",
        "    print(\"its not lowest number\")\n",
        "else:\n",
        "  print(\"check again\")    "
      ]
    },
    {
      "cell_type": "code",
      "execution_count": null,
      "metadata": {
        "colab": {
          "base_uri": "https://localhost:8080/"
        },
        "id": "rwO1zPHb5Y26",
        "outputId": "0722257c-9e1b-4ebc-e824-2090eb6432ee"
      },
      "outputs": [
        {
          "name": "stdout",
          "output_type": "stream",
          "text": [
            "number = 34\n",
            "not\n"
          ]
        }
      ],
      "source": [
        "#Write a program to check whether a number entered is a three digit number or not.\n",
        "\n",
        "a=int(input(\"number = \"))\n",
        "if a>99 and a<999:\n",
        "  print(a,\"is a three digit num\")\n",
        "else:\n",
        "  print(\"not\")"
      ]
    },
    {
      "cell_type": "code",
      "execution_count": null,
      "metadata": {
        "colab": {
          "base_uri": "https://localhost:8080/"
        },
        "id": "rGjq6O_VVo9D",
        "outputId": "b49724dd-c5fd-45d1-e93c-9561da639852"
      },
      "outputs": [
        {
          "name": "stdout",
          "output_type": "stream",
          "text": [
            "Temperature in degree : 25\n",
            "water is not boling water\n"
          ]
        }
      ],
      "source": [
        "#Accept the temperature in degree Celsius of water and check whether it is boiling or not (boiling point of water in 100 oC.\n",
        "\n",
        "a= int(input(\"Temperature in degree : \"))\n",
        "if a==100:\n",
        "  print(\"water is boiling water\")\n",
        "else:\n",
        "  print(\"water is not boling water\")"
      ]
    },
    {
      "cell_type": "code",
      "execution_count": null,
      "metadata": {
        "colab": {
          "base_uri": "https://localhost:8080/"
        },
        "id": "3iZEjyHSVpCM",
        "outputId": "cffe829b-fc99-46f9-e0a5-5b00f8e34ce0"
      },
      "outputs": [
        {
          "name": "stdout",
          "output_type": "stream",
          "text": [
            " number : 7\n",
            " number : 9\n",
            "16\n"
          ]
        }
      ],
      "source": [
        "#Write a program to accept two numbers and mathematical operators and perform operation accordingly.\n",
        "#Like:\n",
        "#Enter First Number: 7\n",
        "#Enter Second Number : 9\n",
        "#Enter operator : +\n",
        "#Your Answer is : 16\n",
        "\n",
        "a=int(input( ' number : '))\n",
        "b=int(input( ' number : '))\n",
        "if c=='+':\n",
        "  print(a+b)\n",
        "else:\n",
        "  print(\"wrong\")"
      ]
    },
    {
      "cell_type": "code",
      "execution_count": null,
      "metadata": {
        "colab": {
          "base_uri": "https://localhost:8080/"
        },
        "id": "FRwIY-dsVpR8",
        "outputId": "d68d70ef-bfd5-452a-8f6e-cc4565a4b06a"
      },
      "outputs": [
        {
          "name": "stdout",
          "output_type": "stream",
          "text": [
            "no : 6\n",
            "0\n"
          ]
        }
      ],
      "source": [
        "#not docs question\n",
        "a=int(input(\"no : \"))\n",
        "b=a//10\n",
        "e=b%10\n",
        "print(e)"
      ]
    },
    {
      "cell_type": "code",
      "execution_count": null,
      "metadata": {
        "colab": {
          "base_uri": "https://localhost:8080/"
        },
        "id": "68R1A6t75ZJb",
        "outputId": "cff11b59-f2d2-4706-d8d0-d942a16a8a77"
      },
      "outputs": [
        {
          "name": "stdout",
          "output_type": "stream",
          "text": [
            "ente celsius = 7\n",
            "12.6\n",
            "enter fahrenhiet = 6\n",
            "-26\n"
          ]
        }
      ],
      "source": [
        "#TEST QUESTION:\n",
        "\n",
        "c=int(input(\"ente celsius = \"))\n",
        "c=c*1.8\n",
        "c+32\n",
        "print(c)\n",
        "f=int(input(\"enter fahrenhiet = \")) \n",
        "f=f-32\n",
        "f/1.8\n",
        "print(f)"
      ]
    },
    {
      "cell_type": "code",
      "execution_count": null,
      "metadata": {
        "colab": {
          "base_uri": "https://localhost:8080/"
        },
        "id": "qqEivJ07Z4u1",
        "outputId": "29158a58-2cfe-476d-eda1-d794d5258764"
      },
      "outputs": [
        {
          "name": "stdout",
          "output_type": "stream",
          "text": [
            "enter your gender : female\n",
            "enter your age : 40\n",
            "enter your days : 7\n",
            "inualied index\n"
          ]
        }
      ],
      "source": [
        "#Accept the age, sex (‘M’, ‘F’), number of days and display the wages accordingly\n",
        "#If age does not fall in any range then display the following message: “Enter appropriate age”\n",
        "\n",
        "#Age             Sex     Wage/day\n",
        "#>=18 and <30     M        700\n",
        "#                 F        750\n",
        "#>=30 and <=40    M        800\n",
        "#                 F        850\n",
        "\n",
        "gender=input(\"enter your gender : \")\n",
        "age=int(input(\"enter your age : \"))\n",
        "days=int(input(\"enter your days : \"))\n",
        "if gender==\"male\":\n",
        "   if age>=18 and age<30:\n",
        "     print(700*days)\n",
        "     if age>=30 and age <=40:\n",
        "       print(800*days)\n",
        "elif gender==\"female\":\n",
        "  if age>=18 and age<30:\n",
        "    print(750*days)\n",
        "    if age>=30 and age<=40:\n",
        "      print(850*days)\n",
        "  else:\n",
        "    print(\"inualied index\")"
      ]
    },
    {
      "cell_type": "code",
      "execution_count": null,
      "metadata": {
        "colab": {
          "base_uri": "https://localhost:8080/"
        },
        "id": "aGpgZBXxtfpF",
        "outputId": "6aba6243-dea4-45d9-88de-0ef8bbceca03"
      },
      "outputs": [
        {
          "name": "stdout",
          "output_type": "stream",
          "text": [
            "enter number = 3\n",
            "enter number = 67\n",
            "enter number = 83\n"
          ]
        }
      ],
      "source": [
        "#Accept three numbers from the user and display the second largest number.\n",
        "\n",
        "a=int(input(\"enter number = \"))\n",
        "b=int(input(\"enter number = \"))\n",
        "c=int(input(\"enter number = \"))\n",
        "if a>b and a>c:\n",
        "  if b>c:\n",
        "    print(b,\"is second largest number\" )\n",
        "  else:\n",
        "    print(c,\"is second largest number \")\n",
        "elif b>a and b>a:\n",
        "  print\n"
      ]
    },
    {
      "cell_type": "code",
      "execution_count": null,
      "metadata": {
        "colab": {
          "background_save": true,
          "base_uri": "https://localhost:8080/",
          "height": 132
        },
        "id": "lH0Ncs-0th-y",
        "outputId": "00267c77-ac18-443a-844c-cc50a9721b65"
      },
      "outputs": [
        {
          "ename": "SyntaxError",
          "evalue": "ignored",
          "output_type": "error",
          "traceback": [
            "\u001b[0;36m  File \u001b[0;32m\"<ipython-input-18-99c27b4a37df>\"\u001b[0;36m, line \u001b[0;32m12\u001b[0m\n\u001b[0;31m    elif x<=70 and x=>80:\u001b[0m\n\u001b[0m                    ^\u001b[0m\n\u001b[0;31mSyntaxError\u001b[0m\u001b[0;31m:\u001b[0m invalid syntax\n"
          ]
        }
      ],
      "source": [
        "#18\n",
        "a=int(input(\"subject physics\"))\n",
        "b=int(input(\"subject chemistry\"))\n",
        "c=int(input(\"subject biology\"))\n",
        "d=int(input(\"subject maths\"))\n",
        "e=int(input(\"subject computer\"))\n",
        "x=a+b+c+d+e/500*100\n",
        "if x=>90% and x<=100%:\n",
        "  print(\"grade a\")\n",
        "elif x<90 and x>80:\n",
        "  print(\"grade b\")\n",
        "elif x<70 and x>80:\n",
        "  print(\"gread c\")\n",
        "elif x<70 and x>60:\n",
        "  print(\"grade c\")\n"
      ]
    },
    {
      "cell_type": "code",
      "execution_count": null,
      "metadata": {
        "id": "xIc80SkQtieS"
      },
      "outputs": [],
      "source": [
        ""
      ]
    },
    {
      "cell_type": "code",
      "execution_count": null,
      "metadata": {
        "colab": {
          "base_uri": "https://localhost:8080/"
        },
        "id": "7SB1ztJ1timl",
        "outputId": "b0d453d6-10d9-4f58-ea53-f04b1eba502c"
      },
      "outputs": [
        {
          "name": "stdout",
          "output_type": "stream",
          "text": [
            "priya27\n"
          ]
        }
      ],
      "source": [
        "\n",
        "a=9\n",
        "b=3\n",
        "c=\"priya\"\n",
        "d=a*b\n",
        "print(c+str(d))"
      ]
    }
  ],
  "metadata": {
    "colab": {
      "name": "if /else practice",
      "provenance": [],
      "collapsed_sections": [],
      "authorship_tag": "ABX9TyOFw3urguB/I2c7H71eQO3q",
      "include_colab_link": true
    },
    "kernelspec": {
      "display_name": "Python 3",
      "name": "python3"
    },
    "language_info": {
      "name": "python"
    }
  },
  "nbformat": 4,
  "nbformat_minor": 0
}